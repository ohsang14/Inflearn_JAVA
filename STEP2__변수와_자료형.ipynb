{
  "nbformat": 4,
  "nbformat_minor": 0,
  "metadata": {
    "colab": {
      "provenance": [],
      "authorship_tag": "ABX9TyP/EiJw/cGINTWV0FXz2rcZ",
      "include_colab_link": true
    },
    "kernelspec": {
      "name": "python3",
      "display_name": "Python 3"
    },
    "language_info": {
      "name": "python"
    }
  },
  "cells": [
    {
      "cell_type": "markdown",
      "metadata": {
        "id": "view-in-github",
        "colab_type": "text"
      },
      "source": [
        "<a href=\"https://colab.research.google.com/github/ohsang14/JAVA/blob/main/STEP2__%EB%B3%80%EC%88%98%EC%99%80_%EC%9E%90%EB%A3%8C%ED%98%95.ipynb\" target=\"_parent\"><img src=\"https://colab.research.google.com/assets/colab-badge.svg\" alt=\"Open In Colab\"/></a>"
      ]
    },
    {
      "cell_type": "markdown",
      "source": [
        "# 변수와 자료형"
      ],
      "metadata": {
        "id": "ryxKuwsqeV98"
      }
    },
    {
      "cell_type": "markdown",
      "source": [
        "\n",
        "\n",
        "> 들여쓴 블록\n",
        "\n",
        "# 01.문자열 자료형 I"
      ],
      "metadata": {
        "id": "eL1KWhOvtAD5"
      }
    },
    {
      "cell_type": "code",
      "execution_count": null,
      "metadata": {
        "colab": {
          "base_uri": "https://localhost:8080/"
        },
        "id": "EZmyT832WIcT",
        "outputId": "2c32e690-2446-44ec-f2b7-0b761713e57a"
      },
      "outputs": [
        {
          "output_type": "stream",
          "name": "stdout",
          "text": [
            "hello\n"
          ]
        }
      ],
      "source": [
        "# 큰 따옴표로 문자열 만들기\n",
        "# word 변수에 큰 따옴표 문자열 저장하여 출력\n",
        "word = \"hello\"\n",
        "print(word)"
      ]
    },
    {
      "cell_type": "code",
      "source": [
        "# 작은 따옴표로 문자열 만들기\n",
        "print('hello')"
      ],
      "metadata": {
        "colab": {
          "base_uri": "https://localhost:8080/"
        },
        "id": "sdnI_ZJLWf8h",
        "outputId": "8a5f9500-d18a-4cba-caf6-4f26c12c65e2"
      },
      "execution_count": null,
      "outputs": [
        {
          "output_type": "stream",
          "name": "stdout",
          "text": [
            "hello\n"
          ]
        }
      ]
    },
    {
      "cell_type": "code",
      "source": [
        "# 문자열 내부에 큰 따옴표 안에 작은 따옴표 넣기\n",
        "print(\"I'm smart\")"
      ],
      "metadata": {
        "colab": {
          "base_uri": "https://localhost:8080/"
        },
        "id": "a_4VGcQfWnvt",
        "outputId": "a66d847c-6ab3-4ece-c29f-77a3a2b04e94"
      },
      "execution_count": null,
      "outputs": [
        {
          "output_type": "stream",
          "name": "stdout",
          "text": [
            "I'm smart\n"
          ]
        }
      ]
    },
    {
      "cell_type": "code",
      "source": [
        "# 이스케이프 문자를 사용해 문자열 만들기\n",
        "# 이스케이프 문자는 역슬래쉬(\\) 기호와 할께 조합해서 사용하는 특수문자를 의미\n",
        "# \\와 함꼐 사용하면'문자열을 만드는 기호' 가 아니라 \\단순한 따옴표\\ 로 인식\n",
        "print('아시 안느를 `아세요?`넨네')"
      ],
      "metadata": {
        "colab": {
          "base_uri": "https://localhost:8080/"
        },
        "id": "qkax62q_WswX",
        "outputId": "2cdc6bf4-282a-4e85-d2d0-e5bf842a720d"
      },
      "execution_count": null,
      "outputs": [
        {
          "output_type": "stream",
          "name": "stdout",
          "text": [
            "아시 안느를 `아세요?`넨네\n"
          ]
        }
      ]
    },
    {
      "cell_type": "code",
      "source": [
        "# 여러 줄 문자열 만들기\n",
        "# 큰 따옴표 또는 작은 따옴표를 3번 반복한 기호를 사용\n",
        "# Enter를 누르는 곳마다 줄바꿈이 일어남\n",
        "sentence = \"\"\"\n",
        "글을 쓰고 싶다\n",
        "옥슬아\n",
        "안느야\n",
        "\"\"\"\n",
        "print(sentence)"
      ],
      "metadata": {
        "colab": {
          "base_uri": "https://localhost:8080/"
        },
        "id": "jZhPlWlyY_ww",
        "outputId": "200122b8-aaea-43dd-eaa5-a5a1672d93a7"
      },
      "execution_count": null,
      "outputs": [
        {
          "output_type": "stream",
          "name": "stdout",
          "text": [
            "\n",
            "글을 쓰고 싶다\n",
            "옥슬아\n",
            "안느야\n",
            "\n"
          ]
        }
      ]
    },
    {
      "cell_type": "code",
      "source": [
        "# 줄 바꿈 없이 문자열 만들기\n",
        "# 큰 따옴표 또는 작은 따옴표를 3번 반복한 기호만 사용하면 위 아래로 의도하지 않은 줄바꿈이 생김\n",
        "# 역슬래쉬(\\) 기호를 사용하면 의도하지 않은 줄바꿈이 사라짐\n",
        "\n",
        "sentence = \"\"\"\\\n",
        "옥슬아\n",
        "안느야\n",
        "안느야\\\n",
        "\"\"\"\n",
        "print(sentence)"
      ],
      "metadata": {
        "colab": {
          "base_uri": "https://localhost:8080/"
        },
        "id": "m_uJzpJ9W-AC",
        "outputId": "f72724ad-f8f1-465a-817f-49977be9b48e"
      },
      "execution_count": null,
      "outputs": [
        {
          "output_type": "stream",
          "name": "stdout",
          "text": [
            "옥슬아\n",
            "안느야\n",
            "안느야\n"
          ]
        }
      ]
    },
    {
      "cell_type": "code",
      "source": [
        "sentence1 = \"1\\n2\"\n",
        "sentence2 = \"3\\t4\"\n",
        "sentence3 = '\\'작은 따옴표\\' 출력'\n",
        "sentence4 = \"\\\"큰 따옴표\\\" 출력\"\n",
        "print(sentence1)\n",
        "print(sentence2)\n",
        "print(sentence3)\n",
        "print(sentence4)"
      ],
      "metadata": {
        "colab": {
          "base_uri": "https://localhost:8080/"
        },
        "id": "3jcBhhqDYOu7",
        "outputId": "a6d02a86-4a0a-4a0d-b547-01fb5bd07b57"
      },
      "execution_count": null,
      "outputs": [
        {
          "output_type": "stream",
          "name": "stdout",
          "text": [
            "1\n",
            "2\n",
            "3\t4\n",
            "'작은 따옴표' 출력\n",
            "\"큰 따옴표\" 출력\n"
          ]
        }
      ]
    },
    {
      "cell_type": "code",
      "source": [
        "# [+] 문자열 연결 연산자\n",
        "a = \"파이썬!\"\n",
        "b = \"프로그래밍 !\"\n",
        "print(a+b)"
      ],
      "metadata": {
        "colab": {
          "base_uri": "https://localhost:8080/"
        },
        "id": "mYY-xyotcyK8",
        "outputId": "2bc9aa03-6026-4f8e-d638-a14dd314b5ac"
      },
      "execution_count": null,
      "outputs": [
        {
          "output_type": "stream",
          "name": "stdout",
          "text": [
            "파이썬!프로그래밍 !\n"
          ]
        }
      ]
    },
    {
      "cell_type": "code",
      "source": [
        "# [*] 문자열 반복 연산자\n",
        "equal = \"=\" * 30\n",
        "sentence = equal + \"\\n 파이썬을 제대로 공부해보자!\\n\" + equal\n",
        "print(sentence)"
      ],
      "metadata": {
        "colab": {
          "base_uri": "https://localhost:8080/"
        },
        "id": "tZ88dKuXc4Qe",
        "outputId": "a7f9afe8-609f-44fe-d1fe-534e1a2b7243"
      },
      "execution_count": null,
      "outputs": [
        {
          "output_type": "stream",
          "name": "stdout",
          "text": [
            "==============================\n",
            " 파이썬을 제대로 공부해보자!\n",
            "==============================\n"
          ]
        }
      ]
    },
    {
      "cell_type": "code",
      "source": [
        "# 문자열 인덱싱: 문자 하나 선택\n",
        "#     012  3 4567 8 910111213\n",
        "\n",
        "sentence = '파이썬 하루만에 끝내보자!'"
      ],
      "metadata": {
        "id": "VX_YdfVwdIKQ"
      },
      "execution_count": null,
      "outputs": []
    },
    {
      "cell_type": "code",
      "source": [
        "# 문자열 [인덱스]로 호출\n",
        "# 순방향 인덱스 : 0부터 시작\n",
        "# 역방향 인덱스 : -1 부터 시작\n",
        "print(sentence)\n",
        "print(sentence[0])\n",
        "print(sentence[-1])"
      ],
      "metadata": {
        "colab": {
          "base_uri": "https://localhost:8080/"
        },
        "id": "yQmwLl_UdYEu",
        "outputId": "9de068eb-9978-4207-e4d9-2b522ce546cb"
      },
      "execution_count": null,
      "outputs": [
        {
          "output_type": "stream",
          "name": "stdout",
          "text": [
            "파이썬 하루만에 끝내보자!\n",
            "파\n",
            "!\n"
          ]
        }
      ]
    },
    {
      "cell_type": "code",
      "source": [
        "# 문자열 슬라이싱: 특정 범위 선택\n",
        "sentence = \"파이썬 하루만에 끝내보자!\""
      ],
      "metadata": {
        "id": "UNkN9unjdkTB"
      },
      "execution_count": null,
      "outputs": []
    },
    {
      "cell_type": "code",
      "source": [
        "# 문자열[인덱스] : 인덱스2]로 호출\n",
        "# 4:8 = 4,5,6,7\n",
        "# 4 이상부터 8 미만까지 출력\n",
        "# 마지막 수는 포함 x\n",
        "\n",
        "print(sentence)\n",
        "print(sentence[4:8])"
      ],
      "metadata": {
        "colab": {
          "base_uri": "https://localhost:8080/"
        },
        "id": "JYD1LltLd2y4",
        "outputId": "d2024dc7-5bb3-4a09-881a-f1c37e3eab22"
      },
      "execution_count": null,
      "outputs": [
        {
          "output_type": "stream",
          "name": "stdout",
          "text": [
            "파이썬 하루만에 끝내보자!\n",
            "하루만에\n"
          ]
        }
      ]
    },
    {
      "cell_type": "code",
      "source": [],
      "metadata": {
        "id": "yLW9-R4OtJEv"
      },
      "execution_count": null,
      "outputs": []
    },
    {
      "cell_type": "markdown",
      "source": [
        "\n",
        "\n",
        "> 들여쓴 블록\n",
        "\n",
        "#02.문자열 자료형 II"
      ],
      "metadata": {
        "id": "iz-XUTayesbc"
      }
    },
    {
      "cell_type": "markdown",
      "source": [
        "\n",
        "\n",
        "> 들여쓴 블록\n",
        "# 03.문자열 자료형 III\n"
      ],
      "metadata": {
        "id": "W7T_BTjwtVOl"
      }
    },
    {
      "cell_type": "code",
      "source": [
        "# 한 개의 % 연산자 포맷팅\n",
        "# 숫자 대입은 %d\n",
        "sentence = \"나는 %d호선을 타고 다녀.\" %6\n",
        "print(sentence)"
      ],
      "metadata": {
        "colab": {
          "base_uri": "https://localhost:8080/"
        },
        "id": "MpbROyK_e5OE",
        "outputId": "a3a3e657-9abf-4786-b3d3-65b367d8b134"
      },
      "execution_count": null,
      "outputs": [
        {
          "output_type": "stream",
          "name": "stdout",
          "text": [
            "나는 6호선을 타고 다녀.\n"
          ]
        }
      ]
    },
    {
      "cell_type": "code",
      "source": [
        "# 두 개의 이상의 % 연산자 포맷팅\n",
        "# 숫자 나타내는 변수와 문자를 나타내는 변수 대입\n",
        "# 숫자 대입은 #d. 문자 대입은 %s\n",
        "a = 4\n",
        "b = \"학교\"\n",
        "sentence = \"나는 %d호선을 타고 %s로 가.\" % (a,b)\n",
        "print(sentence)"
      ],
      "metadata": {
        "colab": {
          "base_uri": "https://localhost:8080/"
        },
        "id": "0-omviMLgbFT",
        "outputId": "575ef4af-ada2-46ba-9a31-5921cb8b345d"
      },
      "execution_count": null,
      "outputs": [
        {
          "output_type": "stream",
          "name": "stdout",
          "text": [
            "나는 4호선을 타고 학교로 가.\n"
          ]
        }
      ]
    },
    {
      "cell_type": "code",
      "source": [
        "# 한 개의 format() 함수 포맷팅\n",
        "# [] 안에 숫자 대입\n",
        "# format 함수 안에 넣을 숫자 삽입.\n",
        "print(\"나는 {}호선을 타고 다녀\".format(6))\n",
        "print(\"나는 {0}호선을 타고 다녀\".format(6))"
      ],
      "metadata": {
        "colab": {
          "base_uri": "https://localhost:8080/"
        },
        "id": "VMcgCthkgug2",
        "outputId": "180d1bfe-0660-4f2f-ed79-eb506c8a1aae"
      },
      "execution_count": null,
      "outputs": [
        {
          "output_type": "stream",
          "name": "stdout",
          "text": [
            "나는 6호선을 타고 다녀\n",
            "나는 6호선을 타고 다녀\n"
          ]
        }
      ]
    },
    {
      "cell_type": "code",
      "source": [
        "# len(x) : 문자열 길이 출력\n",
        "sentence1 = \"Selena는 샤브샤브를 좋아해\"\n",
        "print(len(sentence1))"
      ],
      "metadata": {
        "colab": {
          "base_uri": "https://localhost:8080/"
        },
        "id": "AWBGHG6KhTnW",
        "outputId": "9edf235d-7830-4a34-fbe4-826c3a86daf4"
      },
      "execution_count": null,
      "outputs": [
        {
          "output_type": "stream",
          "name": "stdout",
          "text": [
            "17\n"
          ]
        }
      ]
    },
    {
      "cell_type": "code",
      "source": [
        "# split(): 문자열 나누기\n",
        "print(sentence1.split())"
      ],
      "metadata": {
        "colab": {
          "base_uri": "https://localhost:8080/"
        },
        "id": "o4HFVbHFh_sL",
        "outputId": "b3cd5478-a4a8-4f05-b2e1-55dedaba6a4b"
      },
      "execution_count": null,
      "outputs": [
        {
          "output_type": "stream",
          "name": "stdout",
          "text": [
            "['Selena는', '샤브샤브를', '좋아해']\n"
          ]
        }
      ]
    },
    {
      "cell_type": "code",
      "source": [
        "# count(x) : 문자 개수 세기\n",
        "print(sentence1.count(\"샤브\"))"
      ],
      "metadata": {
        "colab": {
          "base_uri": "https://localhost:8080/"
        },
        "id": "cS0RJ-nxiEcS",
        "outputId": "e3a278e0-aa23-43dc-b53e-3a5f25ce054e"
      },
      "execution_count": null,
      "outputs": [
        {
          "output_type": "stream",
          "name": "stdout",
          "text": [
            "2\n"
          ]
        }
      ]
    },
    {
      "cell_type": "code",
      "source": [
        "# replace('a', 'b') : 문자열 바꾸기\n",
        "sentence2 = sentence1.replace('샤브샤브','고기')\n",
        "print(sentence1)\n",
        "print(sentence2)"
      ],
      "metadata": {
        "colab": {
          "base_uri": "https://localhost:8080/"
        },
        "id": "mh7ECEJEiLk5",
        "outputId": "7b7d55ee-efad-475f-a3d6-8cda891c6d6e"
      },
      "execution_count": null,
      "outputs": [
        {
          "output_type": "stream",
          "name": "stdout",
          "text": [
            "Selena는 샤브샤브를 좋아해\n",
            "Selena는 고기를 좋아해\n"
          ]
        }
      ]
    },
    {
      "cell_type": "code",
      "source": [
        "# find('a') : 위치 알려주기\n",
        "file_name = \"HAMburger.jpg\"\n",
        "print(file_name.find('.'))\n",
        "print(file_name.split('.'))"
      ],
      "metadata": {
        "colab": {
          "base_uri": "https://localhost:8080/"
        },
        "id": "sRenkPV7ibF0",
        "outputId": "e49b9b68-f4e0-4086-b33c-55f235250a4b"
      },
      "execution_count": null,
      "outputs": [
        {
          "output_type": "stream",
          "name": "stdout",
          "text": [
            "9\n",
            "['HAMburger', 'jpg']\n"
          ]
        }
      ]
    },
    {
      "cell_type": "code",
      "source": [
        "# join(x): 문자열 삽입\n",
        "sentence = '.'.join('abcde')\n",
        "print(sentence)"
      ],
      "metadata": {
        "colab": {
          "base_uri": "https://localhost:8080/"
        },
        "id": "bw85d3uOi0BJ",
        "outputId": "056b6944-1bb9-4f62-8d7b-b2dd27cf0b13"
      },
      "execution_count": null,
      "outputs": [
        {
          "output_type": "stream",
          "name": "stdout",
          "text": [
            "a.b.c.d.e\n"
          ]
        }
      ]
    },
    {
      "cell_type": "markdown",
      "source": [
        "# 04.리스트 자료형(list)"
      ],
      "metadata": {
        "id": "SI-BLU5gjRh2"
      }
    },
    {
      "cell_type": "code",
      "source": [
        "# 대괄호 [ ] 내부에 여러 종류의 자료를 넣어 선언\n",
        "# 선언한 리스트를 출력하면 내부의 자료를 모두 출력\n",
        "myList= [1, 1.25, 1, 'word', [1,2,[3,4]]]\n",
        "print(myList)"
      ],
      "metadata": {
        "colab": {
          "base_uri": "https://localhost:8080/"
        },
        "id": "rbpGmBFijYoY",
        "outputId": "34d0fb79-fe5e-406b-aace-b23708297bff"
      },
      "execution_count": null,
      "outputs": [
        {
          "output_type": "stream",
          "name": "stdout",
          "text": [
            "[1, 1.25, 1, 'word', [1, 2, [3, 4]]]\n"
          ]
        }
      ]
    },
    {
      "cell_type": "code",
      "source": [
        "print(myList)\n",
        "\n",
        "#[인덱싱] 0 인덱스 값을 가진 요소 값 출력\n",
        "print(myList[0])"
      ],
      "metadata": {
        "colab": {
          "base_uri": "https://localhost:8080/"
        },
        "id": "6l6t2AZfjltc",
        "outputId": "4e324ac8-bfa9-426f-e0d1-f2f663458d10"
      },
      "execution_count": null,
      "outputs": [
        {
          "output_type": "stream",
          "name": "stdout",
          "text": [
            "[1, 1.25, 1, 'word', [1, 2, [3, 4]]]\n",
            "1\n"
          ]
        }
      ]
    },
    {
      "cell_type": "code",
      "source": [
        "# 리스트 'myList'는 1, 1.25, 1과 또 다른 리스트인 [1,2, [3,4]]로 이루어짐\n",
        "# 인댁식 4번쨰 요쇼\n",
        "print(myList[4][2])"
      ],
      "metadata": {
        "colab": {
          "base_uri": "https://localhost:8080/"
        },
        "id": "Xm4sgKBRkHA4",
        "outputId": "a3a2cb1f-85ff-49e6-bc9e-f95bbf5593e4"
      },
      "execution_count": null,
      "outputs": [
        {
          "output_type": "stream",
          "name": "stdout",
          "text": [
            "[3, 4]\n"
          ]
        }
      ]
    },
    {
      "cell_type": "code",
      "source": [
        "# [인덱싱] 4번쨰 요소 값의 2번쨰 요소 값의 0번째 요소 값 출력\n",
        "print(myList[4][2][0])"
      ],
      "metadata": {
        "colab": {
          "base_uri": "https://localhost:8080/"
        },
        "id": "4-BeYsx-khax",
        "outputId": "73170aa4-f0fa-4cf8-b2fb-4a301004013f"
      },
      "execution_count": null,
      "outputs": [
        {
          "output_type": "stream",
          "name": "stdout",
          "text": [
            "3\n"
          ]
        }
      ]
    },
    {
      "cell_type": "code",
      "source": [
        "#[슬라이싱] 2번쨰부터 3번째까지 범위 선택\n",
        "print(myList[2:3])"
      ],
      "metadata": {
        "colab": {
          "base_uri": "https://localhost:8080/"
        },
        "id": "xJjG64okkuhA",
        "outputId": "c3c87c1b-d5d9-4b28-ccbb-0c7a1b6b4552"
      },
      "execution_count": null,
      "outputs": [
        {
          "output_type": "stream",
          "name": "stdout",
          "text": [
            "[1]\n"
          ]
        }
      ]
    },
    {
      "cell_type": "code",
      "source": [
        "# 아래 결과를 이해하면 인덱싱과 슬라이싱 정복!\n",
        "# 리스트의 인덱싱과 슬라이싱을 이용\n",
        "\n",
        "myList = [1, 5.2, 2*3, ['커피', '물', ['매실차', '유자차']]]\n",
        "print(myList[3][2][0][:2])"
      ],
      "metadata": {
        "colab": {
          "base_uri": "https://localhost:8080/"
        },
        "id": "lLR-Mklkk-oM",
        "outputId": "43ceecc7-311a-432d-f1f3-682e2858dc62"
      },
      "execution_count": null,
      "outputs": [
        {
          "output_type": "stream",
          "name": "stdout",
          "text": [
            "매실\n"
          ]
        }
      ]
    },
    {
      "cell_type": "code",
      "source": [
        "# list1 2번 반복\n",
        "# list1과 list2 덧셈\n",
        "# 연산 결과의 길이 구하기\n",
        "list1 = [1,2,3]\n",
        "list2 = [4,5,6]\n",
        "print(list1*2 +list2)\n",
        "print(len(list1*2 + list2))"
      ],
      "metadata": {
        "colab": {
          "base_uri": "https://localhost:8080/"
        },
        "id": "yLOr1Bx1l8dW",
        "outputId": "7c0eb28d-4957-4efc-a56f-0e2a5ed5af45"
      },
      "execution_count": null,
      "outputs": [
        {
          "output_type": "stream",
          "name": "stdout",
          "text": [
            "[1, 2, 3, 1, 2, 3, 4, 5, 6]\n",
            "9\n"
          ]
        }
      ]
    },
    {
      "cell_type": "code",
      "source": [
        "myList = [1,5.2,2*3, ['커피','물',['매실차','유자차']]]\n",
        "print(myList)\n",
        "\n",
        "# 리스트 변경 값으로 수정\n",
        "myList[3] = \"변경\"\n",
        "print(myList)\n",
        "print(len(myList))\n",
        "\n",
        "# 리스트 \"변경\" 값 삭제\n",
        "del myList[3]\n",
        "print(myList)\n",
        "print(len(myList))"
      ],
      "metadata": {
        "colab": {
          "base_uri": "https://localhost:8080/"
        },
        "id": "o1GVVp1lmT3x",
        "outputId": "648f0bb0-cf20-4b6e-e5af-08f773d4f81d"
      },
      "execution_count": null,
      "outputs": [
        {
          "output_type": "stream",
          "name": "stdout",
          "text": [
            "[1, 5.2, 6, ['커피', '물', ['매실차', '유자차']]]\n",
            "[1, 5.2, 6, '변경']\n",
            "4\n",
            "[1, 5.2, 6]\n",
            "3\n"
          ]
        }
      ]
    },
    {
      "cell_type": "code",
      "source": [
        "myList = [1, 5.2 ,2, 6, 2]"
      ],
      "metadata": {
        "id": "E_sIe_pRmo9r"
      },
      "execution_count": null,
      "outputs": []
    },
    {
      "cell_type": "code",
      "source": [
        "# sort() : 리스트의 요소를 순서대로 정렬하는 함수\n",
        "myList.sort()\n",
        "print(myList)"
      ],
      "metadata": {
        "colab": {
          "base_uri": "https://localhost:8080/"
        },
        "id": "jdSqqyozpiX-",
        "outputId": "d078d5db-a5aa-4dcd-a801-8f755beb1a03"
      },
      "execution_count": null,
      "outputs": [
        {
          "output_type": "stream",
          "name": "stdout",
          "text": [
            "[1, 2, 2, 5.2, 6]\n"
          ]
        }
      ]
    },
    {
      "cell_type": "code",
      "source": [
        "# reverse(): 리스트 요소 뒤집는 함수\n",
        "myList.reverse()\n",
        "print(myList)"
      ],
      "metadata": {
        "colab": {
          "base_uri": "https://localhost:8080/"
        },
        "id": "sV90BLhKpoNd",
        "outputId": "b58d03ff-d497-4aba-fbf1-69a70227bc32"
      },
      "execution_count": null,
      "outputs": [
        {
          "output_type": "stream",
          "name": "stdout",
          "text": [
            "[6, 5.2, 2, 2, 1]\n"
          ]
        }
      ]
    },
    {
      "cell_type": "code",
      "source": [
        "# apeend(x) : 리스트 맨 마지막에 추가하는 함수\n",
        "# 한 개의 숫자를 리스트에 추가한 경우\n",
        "myList.append(1)\n",
        "print(myList)"
      ],
      "metadata": {
        "colab": {
          "base_uri": "https://localhost:8080/"
        },
        "id": "4MwNPqWGp0M5",
        "outputId": "57bafd18-a165-429c-f316-bc62f04de3bb"
      },
      "execution_count": null,
      "outputs": [
        {
          "output_type": "stream",
          "name": "stdout",
          "text": [
            "[6, 5.2, 2, 2, 1, 1]\n"
          ]
        }
      ]
    },
    {
      "cell_type": "code",
      "source": [
        "# append(x): 리스트 맨 마지막에 리스트를 추가하는 함수\n",
        "myList.append([3,4])\n",
        "print(myList)"
      ],
      "metadata": {
        "colab": {
          "base_uri": "https://localhost:8080/"
        },
        "id": "agclCkJPp9HX",
        "outputId": "d1e85d6f-30fc-473b-b241-c464a3b3a6c4"
      },
      "execution_count": null,
      "outputs": [
        {
          "output_type": "stream",
          "name": "stdout",
          "text": [
            "[6, 5.2, 2, 2, 1, 1, [3, 4]]\n"
          ]
        }
      ]
    },
    {
      "cell_type": "code",
      "source": [
        "# extend(x): 원래 myList 리스트에 새로운 리스트를 더 하는 함수\n",
        "myList.extend([3,4])\n",
        "print(myList)"
      ],
      "metadata": {
        "colab": {
          "base_uri": "https://localhost:8080/"
        },
        "id": "90hTzBc1qFjI",
        "outputId": "77182989-4597-4040-ff39-46452e8e58b4"
      },
      "execution_count": null,
      "outputs": [
        {
          "output_type": "stream",
          "name": "stdout",
          "text": [
            "[6, 5.2, 2, 2, 1, 1, [3, 4], 3, 4]\n"
          ]
        }
      ]
    },
    {
      "cell_type": "code",
      "source": [
        "# insert(a,b): 리스트 a번쨰 위치에 b를 삽입하는 함수\n",
        "# 2번쨰 위치에 '삽입' 문자열 삽입\n",
        "myList.insert(2,\"삽입\")\n",
        "print(myList)"
      ],
      "metadata": {
        "colab": {
          "base_uri": "https://localhost:8080/"
        },
        "id": "tt5q64WiqL9c",
        "outputId": "0018ec34-86fd-4ccf-82ff-c7a1858b516c"
      },
      "execution_count": null,
      "outputs": [
        {
          "output_type": "stream",
          "name": "stdout",
          "text": [
            "[6, 5.2, '삽입', 2, 2, 1, 1, [3, 4], 3, 4]\n"
          ]
        }
      ]
    },
    {
      "cell_type": "code",
      "source": [
        "# remove(x): 리스트에서 첫 번째로 나오는 x를 삭제하는 함수\n",
        "# 첫 번째 나온 2를 삭제\n",
        "myList.remove(2)\n",
        "print(myList)"
      ],
      "metadata": {
        "colab": {
          "base_uri": "https://localhost:8080/"
        },
        "id": "6Ns7e04tqYdP",
        "outputId": "1b944827-80bb-46dc-d899-773fa8804149"
      },
      "execution_count": null,
      "outputs": [
        {
          "output_type": "stream",
          "name": "stdout",
          "text": [
            "[6, 5.2, '삽입', 2, 1, 1, [3, 4], 3, 4]\n"
          ]
        }
      ]
    },
    {
      "cell_type": "code",
      "source": [
        "print(myList)\n",
        "\n",
        "#pop(): 리스트의 맨 마지막 요소를 돌려주고 그 요소는 삭제하는 함수\n",
        "# 맨 마지막 요소인 4 삭제\n",
        "lastWord = myList.pop()\n",
        "print(myList)\n",
        "print(lastWord)\n",
        "\n",
        "# pop(x) : 리스트의 x번쨰 요소를 돌려주고 그 요소는 삭제하는 함수\n",
        "# 1번째 요소인 5.2 삭제\n",
        "lastWord = myList.pop(1)\n",
        "print(myList)\n",
        "print(lastWord)"
      ],
      "metadata": {
        "colab": {
          "base_uri": "https://localhost:8080/"
        },
        "id": "e8NY7ocDqg6e",
        "outputId": "b139c798-575b-4120-c67c-080f6880337e"
      },
      "execution_count": null,
      "outputs": [
        {
          "output_type": "stream",
          "name": "stdout",
          "text": [
            "[6, '삽입', 2, 1, 1, [3, 4], 3]\n",
            "[6, '삽입', 2, 1, 1, [3, 4]]\n",
            "3\n",
            "[6, 2, 1, 1, [3, 4]]\n",
            "삽입\n"
          ]
        }
      ]
    },
    {
      "cell_type": "code",
      "source": [
        "# count(x): 리스트 안에 x가 몇 개 있는지 조사하여 그 개수를 돌려주는 함수\n",
        "print(myList)\n",
        "print(myList.count(1))"
      ],
      "metadata": {
        "colab": {
          "base_uri": "https://localhost:8080/"
        },
        "id": "4YYduXPRrIBu",
        "outputId": "85674253-c856-40ca-ab60-68e004b8d718"
      },
      "execution_count": null,
      "outputs": [
        {
          "output_type": "stream",
          "name": "stdout",
          "text": [
            "[6, 2, 1, 1, [3, 4]]\n",
            "2\n"
          ]
        }
      ]
    },
    {
      "cell_type": "markdown",
      "source": [
        "#05.튜플 자료형"
      ],
      "metadata": {
        "id": "FtXIYOvmtpzR"
      }
    },
    {
      "cell_type": "code",
      "source": [
        "# 튜플은 수정 삭제 불가"
      ],
      "metadata": {
        "id": "d7s0X4rQt3JO"
      },
      "execution_count": null,
      "outputs": []
    },
    {
      "cell_type": "code",
      "source": [
        "tuple1 = (2.3,)\n",
        "float1 = (2.3)\n",
        "\n",
        "print(tuple1)\n",
        "print(float1)\n",
        "\n",
        "print(type(tuple1))\n",
        "print(type(float1))"
      ],
      "metadata": {
        "colab": {
          "base_uri": "https://localhost:8080/"
        },
        "id": "CmPQjCOYt8-k",
        "outputId": "a68070dd-fab8-4e1b-a9b9-9bdfbe3d745a"
      },
      "execution_count": null,
      "outputs": [
        {
          "output_type": "stream",
          "name": "stdout",
          "text": [
            "(2.3,)\n",
            "2.3\n",
            "<class 'tuple'>\n",
            "<class 'float'>\n"
          ]
        }
      ]
    },
    {
      "cell_type": "code",
      "source": [
        "# 괄호 없는 튜플\n",
        "# tuple2 : 여러 개 요소인 튜플 생성\n",
        "tuple2 = 1,2,3,4,5\n",
        "print(tuple2)\n",
        "print(type(tuple2))"
      ],
      "metadata": {
        "colab": {
          "base_uri": "https://localhost:8080/"
        },
        "id": "RXxSyeMBvaQE",
        "outputId": "1a603d6d-bc9c-49eb-8ad4-6a533562e40f"
      },
      "execution_count": null,
      "outputs": [
        {
          "output_type": "stream",
          "name": "stdout",
          "text": [
            "(1, 2, 3, 4, 5)\n",
            "<class 'tuple'>\n"
          ]
        }
      ]
    },
    {
      "cell_type": "code",
      "source": [
        "# 인덱싱: 문자열 내부의 문자 하나를 선택하는 연산자\n",
        "tuple1 = (9,8,7,6)\n",
        "tuple1[0]"
      ],
      "metadata": {
        "colab": {
          "base_uri": "https://localhost:8080/"
        },
        "id": "MCtL2GjDvleW",
        "outputId": "f4075f7e-01bf-4d96-a9dc-09ed45265972"
      },
      "execution_count": null,
      "outputs": [
        {
          "output_type": "execute_result",
          "data": {
            "text/plain": [
              "9"
            ]
          },
          "metadata": {},
          "execution_count": 114
        }
      ]
    },
    {
      "cell_type": "code",
      "source": [
        "# 슬라이싱: 문자열의 특정 범위를 선택할 떄 사용하는 연산자\n",
        "# [1:3] : 1 인덱스부터 3 인덱스 미만까지 범위\n",
        "tuple2 = (5,4,3,2)\n",
        "tuple2[1:3]"
      ],
      "metadata": {
        "colab": {
          "base_uri": "https://localhost:8080/"
        },
        "id": "-laEH90Sv0-c",
        "outputId": "9c0e0374-d312-4506-dbb7-00d322acb22a"
      },
      "execution_count": null,
      "outputs": [
        {
          "output_type": "execute_result",
          "data": {
            "text/plain": [
              "(4, 3)"
            ]
          },
          "metadata": {},
          "execution_count": 115
        }
      ]
    },
    {
      "cell_type": "code",
      "source": [
        "# tuple1 2번 반복\n",
        "# tuple1과 tuple2 덧셈\n",
        "# 연산 결과의 길이 구하기\n",
        "tuple1 = (1,2,3)\n",
        "tuple2 = (4,5,6)\n",
        "print(tuple1 * 2 + tuple2)\n",
        "print(len(tuple1*2 + tuple2))"
      ],
      "metadata": {
        "colab": {
          "base_uri": "https://localhost:8080/"
        },
        "id": "1iir8jw5v-DQ",
        "outputId": "799a1ebb-86e6-408a-eab2-d4ae41a2aa28"
      },
      "execution_count": null,
      "outputs": [
        {
          "output_type": "stream",
          "name": "stdout",
          "text": [
            "(1, 2, 3, 1, 2, 3, 4, 5, 6)\n",
            "9\n"
          ]
        }
      ]
    },
    {
      "cell_type": "code",
      "source": [
        "# 튜플의 값은 변경할 떄 오류 발생\n",
        "tuple1 = (1,2,3,4)\n",
        "tuple[0] = 3"
      ],
      "metadata": {
        "colab": {
          "base_uri": "https://localhost:8080/",
          "height": 251
        },
        "id": "-PyQOa-Cwf8O",
        "outputId": "acfdb607-e0ba-488e-93b1-a6c0dd5316bd"
      },
      "execution_count": null,
      "outputs": [
        {
          "output_type": "error",
          "ename": "TypeError",
          "evalue": "ignored",
          "traceback": [
            "\u001b[0;31m---------------------------------------------------------------------------\u001b[0m",
            "\u001b[0;31mTypeError\u001b[0m                                 Traceback (most recent call last)",
            "\u001b[0;32m<ipython-input-118-7d369246c110>\u001b[0m in \u001b[0;36m<cell line: 3>\u001b[0;34m()\u001b[0m\n\u001b[1;32m      1\u001b[0m \u001b[0;31m# 튜플의 값은 변경할 떄 오류 발생\u001b[0m\u001b[0;34m\u001b[0m\u001b[0;34m\u001b[0m\u001b[0m\n\u001b[1;32m      2\u001b[0m \u001b[0mtuple1\u001b[0m \u001b[0;34m=\u001b[0m \u001b[0;34m(\u001b[0m\u001b[0;36m1\u001b[0m\u001b[0;34m,\u001b[0m\u001b[0;36m2\u001b[0m\u001b[0;34m,\u001b[0m\u001b[0;36m3\u001b[0m\u001b[0;34m,\u001b[0m\u001b[0;36m4\u001b[0m\u001b[0;34m)\u001b[0m\u001b[0;34m\u001b[0m\u001b[0;34m\u001b[0m\u001b[0m\n\u001b[0;32m----> 3\u001b[0;31m \u001b[0mtuple\u001b[0m\u001b[0;34m[\u001b[0m\u001b[0;36m0\u001b[0m\u001b[0;34m]\u001b[0m \u001b[0;34m=\u001b[0m \u001b[0;36m3\u001b[0m\u001b[0;34m\u001b[0m\u001b[0;34m\u001b[0m\u001b[0m\n\u001b[0m",
            "\u001b[0;31mTypeError\u001b[0m: 'type' object does not support item assignment"
          ]
        }
      ]
    },
    {
      "cell_type": "code",
      "source": [
        "# 튜플의 값 삭제할 때 오류 발생\n",
        "tuple2 = (1,2,3,4)\n",
        "del tuple2[2]"
      ],
      "metadata": {
        "colab": {
          "base_uri": "https://localhost:8080/",
          "height": 251
        },
        "id": "HnRDzqBpwtRs",
        "outputId": "e479b1aa-fd8a-431c-95df-981029104688"
      },
      "execution_count": null,
      "outputs": [
        {
          "output_type": "error",
          "ename": "TypeError",
          "evalue": "ignored",
          "traceback": [
            "\u001b[0;31m---------------------------------------------------------------------------\u001b[0m",
            "\u001b[0;31mTypeError\u001b[0m                                 Traceback (most recent call last)",
            "\u001b[0;32m<ipython-input-120-6c79335f77d6>\u001b[0m in \u001b[0;36m<cell line: 3>\u001b[0;34m()\u001b[0m\n\u001b[1;32m      1\u001b[0m \u001b[0;31m# 튜플의 값 삭제할 때 오류 발생\u001b[0m\u001b[0;34m\u001b[0m\u001b[0;34m\u001b[0m\u001b[0m\n\u001b[1;32m      2\u001b[0m \u001b[0mtuple2\u001b[0m \u001b[0;34m=\u001b[0m \u001b[0;34m(\u001b[0m\u001b[0;36m1\u001b[0m\u001b[0;34m,\u001b[0m\u001b[0;36m2\u001b[0m\u001b[0;34m,\u001b[0m\u001b[0;36m3\u001b[0m\u001b[0;34m,\u001b[0m\u001b[0;36m4\u001b[0m\u001b[0;34m)\u001b[0m\u001b[0;34m\u001b[0m\u001b[0;34m\u001b[0m\u001b[0m\n\u001b[0;32m----> 3\u001b[0;31m \u001b[0;32mdel\u001b[0m \u001b[0mtuple2\u001b[0m\u001b[0;34m[\u001b[0m\u001b[0;36m2\u001b[0m\u001b[0;34m]\u001b[0m\u001b[0;34m\u001b[0m\u001b[0;34m\u001b[0m\u001b[0m\n\u001b[0m",
            "\u001b[0;31mTypeError\u001b[0m: 'tuple' object doesn't support item deletion"
          ]
        }
      ]
    },
    {
      "cell_type": "markdown",
      "source": [
        "딕셔너리"
      ],
      "metadata": {
        "id": "PyV1LuWoEGQZ"
      }
    },
    {
      "cell_type": "code",
      "source": [
        "# 딕셔너리 선언\n",
        "myDictionary = {\n",
        "    \"name\" : \"Selena\",\n",
        "    \"job\" : \"data scientist\"\n",
        "}"
      ],
      "metadata": {
        "id": "iFgCyVfLEJYT"
      },
      "execution_count": 1,
      "outputs": []
    },
    {
      "cell_type": "code",
      "source": [
        "# 딕셔너리 값 출력\n",
        "print(myDictionary[\"name\"])\n",
        "print(myDictionary[\"job\"])"
      ],
      "metadata": {
        "colab": {
          "base_uri": "https://localhost:8080/"
        },
        "id": "xJX9SnXdERlH",
        "outputId": "80f1fde2-6547-4857-9c87-8af5b9c10501"
      },
      "execution_count": 2,
      "outputs": [
        {
          "output_type": "stream",
          "name": "stdout",
          "text": [
            "Selena\n",
            "data scientist\n"
          ]
        }
      ]
    },
    {
      "cell_type": "code",
      "source": [
        "# 딕셔너리 값 추가\n",
        "myDictionary['grade'] = [98,100,88]\n",
        "print(myDictionary)"
      ],
      "metadata": {
        "colab": {
          "base_uri": "https://localhost:8080/"
        },
        "id": "usxDr7J0EZsU",
        "outputId": "38acfe49-9607-4d86-aed1-05f5e8e65f13"
      },
      "execution_count": 3,
      "outputs": [
        {
          "output_type": "stream",
          "name": "stdout",
          "text": [
            "{'name': 'Selena', 'job': 'data scientist', 'grade': [98, 100, 88]}\n"
          ]
        }
      ]
    },
    {
      "cell_type": "code",
      "source": [
        "myDictionary['grade'] = [100, 100 , 90]\n",
        "print(myDictionary)"
      ],
      "metadata": {
        "colab": {
          "base_uri": "https://localhost:8080/"
        },
        "id": "gb5pWshHGLXq",
        "outputId": "e66d7fc0-0734-4155-8da5-20a3559f3de1"
      },
      "execution_count": 4,
      "outputs": [
        {
          "output_type": "stream",
          "name": "stdout",
          "text": [
            "{'name': 'Selena', 'job': 'data scientist', 'grade': [100, 100, 90]}\n"
          ]
        }
      ]
    },
    {
      "cell_type": "code",
      "source": [
        "# 딕셔너리 값 삭제\n",
        "del myDictionary['grade']\n",
        "print(myDictionary)"
      ],
      "metadata": {
        "colab": {
          "base_uri": "https://localhost:8080/"
        },
        "id": "Sa1n_h7jGS3A",
        "outputId": "4eb885b0-7ec1-4dd7-f41d-5c3208ff519b"
      },
      "execution_count": 5,
      "outputs": [
        {
          "output_type": "stream",
          "name": "stdout",
          "text": [
            "{'name': 'Selena', 'job': 'data scientist'}\n"
          ]
        }
      ]
    },
    {
      "cell_type": "code",
      "source": [
        "# keys() : key 리스트 만들기\n",
        "print(myDictionary.keys())"
      ],
      "metadata": {
        "colab": {
          "base_uri": "https://localhost:8080/"
        },
        "id": "x6_NhfMUGYzD",
        "outputId": "e529cdf6-5a32-45df-d277-daba77c7c9ed"
      },
      "execution_count": 6,
      "outputs": [
        {
          "output_type": "stream",
          "name": "stdout",
          "text": [
            "dict_keys(['name', 'job'])\n"
          ]
        }
      ]
    },
    {
      "cell_type": "code",
      "source": [
        "# Values() : value 리스트 만들기\n",
        "print(myDictionary.values())"
      ],
      "metadata": {
        "colab": {
          "base_uri": "https://localhost:8080/"
        },
        "id": "RIM4XgTWGwa8",
        "outputId": "d2e3c705-57b9-46a9-e78d-0ae92aa3a168"
      },
      "execution_count": 7,
      "outputs": [
        {
          "output_type": "stream",
          "name": "stdout",
          "text": [
            "dict_values(['Selena', 'data scientist'])\n"
          ]
        }
      ]
    },
    {
      "cell_type": "code",
      "source": [
        "# items(): key,value 쌍 얻기\n",
        "print(myDictionary.items())"
      ],
      "metadata": {
        "colab": {
          "base_uri": "https://localhost:8080/"
        },
        "id": "PJckce80G8o6",
        "outputId": "2268729b-e8c6-4966-ad3e-289c1cc92dce"
      },
      "execution_count": 8,
      "outputs": [
        {
          "output_type": "stream",
          "name": "stdout",
          "text": [
            "dict_items([('name', 'Selena'), ('job', 'data scientist')])\n"
          ]
        }
      ]
    },
    {
      "cell_type": "code",
      "source": [
        "# get(): key로 value 얻기\n",
        "print(myDictionary.get('name'))\n",
        "print(myDictionary.get('hobby'))"
      ],
      "metadata": {
        "colab": {
          "base_uri": "https://localhost:8080/"
        },
        "id": "p4SDosEOHDqs",
        "outputId": "dff3fe56-bc26-404e-c489-a3b19836f295"
      },
      "execution_count": 10,
      "outputs": [
        {
          "output_type": "stream",
          "name": "stdout",
          "text": [
            "Selena\n",
            "None\n"
          ]
        }
      ]
    },
    {
      "cell_type": "code",
      "source": [
        "# in() : 해당 key가 딕셔너리안에 있는지 조사\n",
        "print('name' in myDictionary)\n",
        "print('myhobby' in myDictionary)"
      ],
      "metadata": {
        "colab": {
          "base_uri": "https://localhost:8080/"
        },
        "id": "6VwbYYH3HNJ3",
        "outputId": "9ba60eea-b0dd-410a-c310-b062fa5d13c8"
      },
      "execution_count": 11,
      "outputs": [
        {
          "output_type": "stream",
          "name": "stdout",
          "text": [
            "True\n",
            "False\n"
          ]
        }
      ]
    },
    {
      "cell_type": "code",
      "source": [
        "# clear() : key, value 쌍 모두 지우기\n",
        "myDictionary.clear()\n",
        "print(myDictionary)"
      ],
      "metadata": {
        "colab": {
          "base_uri": "https://localhost:8080/"
        },
        "id": "6YIO5b0sHaHq",
        "outputId": "6e9b0ae5-ae02-4bc3-c833-c8140dd0bdaa"
      },
      "execution_count": 12,
      "outputs": [
        {
          "output_type": "stream",
          "name": "stdout",
          "text": [
            "{}\n"
          ]
        }
      ]
    },
    {
      "cell_type": "code",
      "source": [],
      "metadata": {
        "id": "wKQe82ffHgx9"
      },
      "execution_count": null,
      "outputs": []
    },
    {
      "cell_type": "markdown",
      "source": [
        "# 07.집합 자료형(set)"
      ],
      "metadata": {
        "id": "xV2ZVZ-yHm9U"
      }
    },
    {
      "cell_type": "code",
      "source": [
        "# 리스트 입력하여 집합 생성\n",
        "set1 = set([10,11,12])\n",
        "print(set1)\n",
        "print(type(set1))"
      ],
      "metadata": {
        "colab": {
          "base_uri": "https://localhost:8080/"
        },
        "id": "4jnMyGLGHqOc",
        "outputId": "95a2aa7d-40b8-46e7-d478-c96d8bb59bbc"
      },
      "execution_count": 13,
      "outputs": [
        {
          "output_type": "stream",
          "name": "stdout",
          "text": [
            "{10, 11, 12}\n",
            "<class 'set'>\n"
          ]
        }
      ]
    },
    {
      "cell_type": "code",
      "source": [
        "# 문자열 입력하여 집합 생성\n",
        "# 중복을 허용 x , e가 하나만 출력\n",
        "# 비순서 자료형: 인덱싱 지원 안함\n",
        "set2 = set(\"selena\")\n",
        "print(set2)\n",
        "print(type(set2))"
      ],
      "metadata": {
        "colab": {
          "base_uri": "https://localhost:8080/"
        },
        "id": "G1nEN5k1H0Ps",
        "outputId": "e8627ac6-2514-485a-b273-0ea768ba18d8"
      },
      "execution_count": 14,
      "outputs": [
        {
          "output_type": "stream",
          "name": "stdout",
          "text": [
            "{'l', 'a', 'n', 'e', 's'}\n",
            "<class 'set'>\n"
          ]
        }
      ]
    },
    {
      "cell_type": "code",
      "source": [
        "# 집합 생성\n",
        "set1 = {1,2,3,4,5}\n",
        "set2 = {1,3,5,7,9}"
      ],
      "metadata": {
        "id": "ekXUtNSYH-Pt"
      },
      "execution_count": 20,
      "outputs": []
    },
    {
      "cell_type": "code",
      "source": [
        "# 합집합\n",
        "print(set1|set2)"
      ],
      "metadata": {
        "colab": {
          "base_uri": "https://localhost:8080/"
        },
        "id": "JUpw-xTtIIo2",
        "outputId": "370771e1-3102-4801-a0e7-6aaa11e8285c"
      },
      "execution_count": 21,
      "outputs": [
        {
          "output_type": "stream",
          "name": "stdout",
          "text": [
            "{1, 2, 3, 4, 5, 7, 9}\n"
          ]
        }
      ]
    },
    {
      "cell_type": "code",
      "source": [
        "# 교집합\n",
        "print(set1 & set2)"
      ],
      "metadata": {
        "colab": {
          "base_uri": "https://localhost:8080/"
        },
        "id": "y80cM-0NILJY",
        "outputId": "15001e5a-86f8-4c82-c31c-250c0a3c93f6"
      },
      "execution_count": 22,
      "outputs": [
        {
          "output_type": "stream",
          "name": "stdout",
          "text": [
            "{1, 3, 5}\n"
          ]
        }
      ]
    },
    {
      "cell_type": "code",
      "source": [
        "# 차집합\n",
        "print(set1 - set2)\n",
        "print(set2 - set1)"
      ],
      "metadata": {
        "colab": {
          "base_uri": "https://localhost:8080/"
        },
        "id": "5NlUr_hFIv5Z",
        "outputId": "b71ccdd7-35d3-4741-940f-fbe4a76d1a4c"
      },
      "execution_count": 23,
      "outputs": [
        {
          "output_type": "stream",
          "name": "stdout",
          "text": [
            "{2, 4}\n",
            "{9, 7}\n"
          ]
        }
      ]
    },
    {
      "cell_type": "code",
      "source": [],
      "metadata": {
        "id": "oLfBshZhI0Q1"
      },
      "execution_count": null,
      "outputs": []
    },
    {
      "cell_type": "markdown",
      "source": [
        "관련 함수\n",
        "add()\n",
        "update()\n",
        "remove()"
      ],
      "metadata": {
        "id": "Hax5qEjcI2S2"
      }
    },
    {
      "cell_type": "code",
      "source": [
        "# 집합 생성\n",
        "set1 = {1,2,3,4,5}"
      ],
      "metadata": {
        "id": "PFG3gPotI5IS"
      },
      "execution_count": 24,
      "outputs": []
    },
    {
      "cell_type": "code",
      "source": [
        "# add(): 한 개의 값 추가\n",
        "set1.add(6)\n",
        "print(set1)"
      ],
      "metadata": {
        "colab": {
          "base_uri": "https://localhost:8080/"
        },
        "id": "T9RWFphTI7-K",
        "outputId": "09dfd4f3-363a-4c26-bded-b7b1164a109a"
      },
      "execution_count": 25,
      "outputs": [
        {
          "output_type": "stream",
          "name": "stdout",
          "text": [
            "{1, 2, 3, 4, 5, 6}\n"
          ]
        }
      ]
    },
    {
      "cell_type": "code",
      "source": [
        "# update(): 여러 개의 값 추가\n",
        "set1.update([11,13])\n",
        "print(set1)"
      ],
      "metadata": {
        "colab": {
          "base_uri": "https://localhost:8080/"
        },
        "id": "qWWuhOzoJAd9",
        "outputId": "7e368e63-842c-4373-f663-e40fa7a9fa62"
      },
      "execution_count": 26,
      "outputs": [
        {
          "output_type": "stream",
          "name": "stdout",
          "text": [
            "{1, 2, 3, 4, 5, 6, 11, 13}\n"
          ]
        }
      ]
    },
    {
      "cell_type": "code",
      "source": [
        "# remove(): 특정 값 제거\n",
        "set1.remove(1)\n",
        "print(set1)"
      ],
      "metadata": {
        "colab": {
          "base_uri": "https://localhost:8080/"
        },
        "id": "6qMRqA_KJF_3",
        "outputId": "71689c6c-8c82-4366-ede3-5b63cc5b546c"
      },
      "execution_count": 34,
      "outputs": [
        {
          "output_type": "stream",
          "name": "stdout",
          "text": [
            "{2, 3, 4, 5, 6, 11, 13}\n"
          ]
        }
      ]
    },
    {
      "cell_type": "code",
      "source": [
        "# 조건문의 반환 값\n",
        "\"selena\" == \"selena\"\n"
      ],
      "metadata": {
        "colab": {
          "base_uri": "https://localhost:8080/"
        },
        "id": "J-zeZIXxJJ9w",
        "outputId": "0559cab0-6820-430f-e7cb-96513662bf45"
      },
      "execution_count": 35,
      "outputs": [
        {
          "output_type": "execute_result",
          "data": {
            "text/plain": [
              "True"
            ]
          },
          "metadata": {},
          "execution_count": 35
        }
      ]
    },
    {
      "cell_type": "code",
      "source": [
        "# 조건문의 반환 값\n",
        "10<11"
      ],
      "metadata": {
        "colab": {
          "base_uri": "https://localhost:8080/"
        },
        "id": "s5PFo0McJsYF",
        "outputId": "1c62b6fe-9ced-429f-87fe-8691e31fecac"
      },
      "execution_count": 36,
      "outputs": [
        {
          "output_type": "execute_result",
          "data": {
            "text/plain": [
              "True"
            ]
          },
          "metadata": {},
          "execution_count": 36
        }
      ]
    },
    {
      "cell_type": "code",
      "source": [
        "if \"pyton\":\n",
        "  print(\"True\")\n",
        "  else:\n",
        "    print(\"False\")"
      ],
      "metadata": {
        "colab": {
          "base_uri": "https://localhost:8080/"
        },
        "id": "QT3x7hSdJu2T",
        "outputId": "98f77e05-2d86-41f5-8c29-87b6874a83f3"
      },
      "execution_count": 39,
      "outputs": [
        {
          "output_type": "stream",
          "name": "stdout",
          "text": [
            "True\n"
          ]
        }
      ]
    },
    {
      "cell_type": "code",
      "source": [
        "if 0:\n",
        "  print(\"true\")\n",
        "  else:\n",
        "    print(\"False\")"
      ],
      "metadata": {
        "colab": {
          "base_uri": "https://localhost:8080/"
        },
        "id": "7EwtWqL5J9Rt",
        "outputId": "c4d3954c-a7e4-4bb1-8b6f-3cc8db9fd490"
      },
      "execution_count": 41,
      "outputs": [
        {
          "output_type": "stream",
          "name": "stdout",
          "text": [
            "true\n"
          ]
        }
      ]
    },
    {
      "cell_type": "code",
      "source": [
        "bool('')"
      ],
      "metadata": {
        "colab": {
          "base_uri": "https://localhost:8080/"
        },
        "id": "TzxJWudjKHSN",
        "outputId": "f5ce5919-a024-44de-e978-e869cdff1c94"
      },
      "execution_count": 42,
      "outputs": [
        {
          "output_type": "execute_result",
          "data": {
            "text/plain": [
              "False"
            ]
          },
          "metadata": {},
          "execution_count": 42
        }
      ]
    },
    {
      "cell_type": "code",
      "source": [
        "bool([1,2,3])"
      ],
      "metadata": {
        "colab": {
          "base_uri": "https://localhost:8080/"
        },
        "id": "rG5sDiorKUYC",
        "outputId": "660d5247-91fd-441b-e06e-3dc7fc33cbda"
      },
      "execution_count": 43,
      "outputs": [
        {
          "output_type": "execute_result",
          "data": {
            "text/plain": [
              "True"
            ]
          },
          "metadata": {},
          "execution_count": 43
        }
      ]
    },
    {
      "cell_type": "code",
      "source": [],
      "metadata": {
        "id": "RVZo1LbLKXKx"
      },
      "execution_count": null,
      "outputs": []
    }
  ]
}